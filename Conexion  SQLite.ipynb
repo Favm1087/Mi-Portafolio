{
 "cells": [
  {
   "cell_type": "code",
   "execution_count": 15,
   "id": "9700bea7",
   "metadata": {},
   "outputs": [
    {
     "data": {
      "text/html": [
       "<div>\n",
       "<style scoped>\n",
       "    .dataframe tbody tr th:only-of-type {\n",
       "        vertical-align: middle;\n",
       "    }\n",
       "\n",
       "    .dataframe tbody tr th {\n",
       "        vertical-align: top;\n",
       "    }\n",
       "\n",
       "    .dataframe thead th {\n",
       "        text-align: right;\n",
       "    }\n",
       "</style>\n",
       "<table border=\"1\" class=\"dataframe\">\n",
       "  <thead>\n",
       "    <tr style=\"text-align: right;\">\n",
       "      <th></th>\n",
       "      <th>ID</th>\n",
       "      <th>Clasificación</th>\n",
       "      <th>Tipo</th>\n",
       "      <th>Cantidad</th>\n",
       "      <th>p_maximo</th>\n",
       "      <th>p_minimo</th>\n",
       "      <th>p_promedio</th>\n",
       "      <th>peso_promedio</th>\n",
       "      <th>Valor_animal</th>\n",
       "    </tr>\n",
       "  </thead>\n",
       "  <tbody>\n",
       "    <tr>\n",
       "      <th>0</th>\n",
       "      <td>1</td>\n",
       "      <td>PRIMERA</td>\n",
       "      <td>ML</td>\n",
       "      <td>178</td>\n",
       "      <td>6400</td>\n",
       "      <td>4000</td>\n",
       "      <td>5452</td>\n",
       "      <td>177</td>\n",
       "      <td>968378</td>\n",
       "    </tr>\n",
       "    <tr>\n",
       "      <th>1</th>\n",
       "      <td>2</td>\n",
       "      <td>PRIMERA</td>\n",
       "      <td>MC</td>\n",
       "      <td>36</td>\n",
       "      <td>5350</td>\n",
       "      <td>4580</td>\n",
       "      <td>5076</td>\n",
       "      <td>296</td>\n",
       "      <td>1502693</td>\n",
       "    </tr>\n",
       "    <tr>\n",
       "      <th>2</th>\n",
       "      <td>3</td>\n",
       "      <td>PRIMERA</td>\n",
       "      <td>TO</td>\n",
       "      <td>2</td>\n",
       "      <td>4500</td>\n",
       "      <td>4420</td>\n",
       "      <td>4460</td>\n",
       "      <td>705</td>\n",
       "      <td>3144300</td>\n",
       "    </tr>\n",
       "    <tr>\n",
       "      <th>3</th>\n",
       "      <td>4</td>\n",
       "      <td>PRIMERA</td>\n",
       "      <td>HL</td>\n",
       "      <td>56</td>\n",
       "      <td>5000</td>\n",
       "      <td>3950</td>\n",
       "      <td>4525</td>\n",
       "      <td>199</td>\n",
       "      <td>900927</td>\n",
       "    </tr>\n",
       "    <tr>\n",
       "      <th>4</th>\n",
       "      <td>5</td>\n",
       "      <td>PRIMERA</td>\n",
       "      <td>HV</td>\n",
       "      <td>8</td>\n",
       "      <td>4200</td>\n",
       "      <td>3850</td>\n",
       "      <td>4050</td>\n",
       "      <td>336</td>\n",
       "      <td>1362150</td>\n",
       "    </tr>\n",
       "    <tr>\n",
       "      <th>5</th>\n",
       "      <td>6</td>\n",
       "      <td>PRIMERA</td>\n",
       "      <td>VE</td>\n",
       "      <td>31</td>\n",
       "      <td>4050</td>\n",
       "      <td>2700</td>\n",
       "      <td>3699</td>\n",
       "      <td>362</td>\n",
       "      <td>1342519</td>\n",
       "    </tr>\n",
       "    <tr>\n",
       "      <th>6</th>\n",
       "      <td>7</td>\n",
       "      <td>PRIMERA</td>\n",
       "      <td>VP</td>\n",
       "      <td>21</td>\n",
       "      <td>4350</td>\n",
       "      <td>3850</td>\n",
       "      <td>4066</td>\n",
       "      <td>455</td>\n",
       "      <td>1850333</td>\n",
       "    </tr>\n",
       "    <tr>\n",
       "      <th>7</th>\n",
       "      <td>8</td>\n",
       "      <td>SEGUNDA</td>\n",
       "      <td>ML</td>\n",
       "      <td>238</td>\n",
       "      <td>5750</td>\n",
       "      <td>3400</td>\n",
       "      <td>4770</td>\n",
       "      <td>165</td>\n",
       "      <td>788592</td>\n",
       "    </tr>\n",
       "    <tr>\n",
       "      <th>8</th>\n",
       "      <td>9</td>\n",
       "      <td>SEGUNDA</td>\n",
       "      <td>MC</td>\n",
       "      <td>20</td>\n",
       "      <td>5050</td>\n",
       "      <td>3700</td>\n",
       "      <td>4587</td>\n",
       "      <td>288</td>\n",
       "      <td>1323063</td>\n",
       "    </tr>\n",
       "    <tr>\n",
       "      <th>9</th>\n",
       "      <td>10</td>\n",
       "      <td>SEGUNDA</td>\n",
       "      <td>TO</td>\n",
       "      <td>1</td>\n",
       "      <td>4380</td>\n",
       "      <td>4380</td>\n",
       "      <td>4380</td>\n",
       "      <td>528</td>\n",
       "      <td>2312640</td>\n",
       "    </tr>\n",
       "    <tr>\n",
       "      <th>10</th>\n",
       "      <td>11</td>\n",
       "      <td>SEGUNDA</td>\n",
       "      <td>HL</td>\n",
       "      <td>12</td>\n",
       "      <td>4650</td>\n",
       "      <td>3300</td>\n",
       "      <td>3912</td>\n",
       "      <td>179</td>\n",
       "      <td>702293</td>\n",
       "    </tr>\n",
       "    <tr>\n",
       "      <th>11</th>\n",
       "      <td>12</td>\n",
       "      <td>SEGUNDA</td>\n",
       "      <td>VE</td>\n",
       "      <td>17</td>\n",
       "      <td>3900</td>\n",
       "      <td>3300</td>\n",
       "      <td>3650</td>\n",
       "      <td>328</td>\n",
       "      <td>1197930</td>\n",
       "    </tr>\n",
       "    <tr>\n",
       "      <th>12</th>\n",
       "      <td>13</td>\n",
       "      <td>SEGUNDA</td>\n",
       "      <td>VP</td>\n",
       "      <td>2</td>\n",
       "      <td>4050</td>\n",
       "      <td>3350</td>\n",
       "      <td>3700</td>\n",
       "      <td>404</td>\n",
       "      <td>1494800</td>\n",
       "    </tr>\n",
       "  </tbody>\n",
       "</table>\n",
       "</div>"
      ],
      "text/plain": [
       "    ID Clasificación Tipo  Cantidad  p_maximo  p_minimo  p_promedio  \\\n",
       "0    1       PRIMERA   ML       178      6400      4000        5452   \n",
       "1    2       PRIMERA   MC        36      5350      4580        5076   \n",
       "2    3       PRIMERA   TO         2      4500      4420        4460   \n",
       "3    4       PRIMERA   HL        56      5000      3950        4525   \n",
       "4    5       PRIMERA   HV         8      4200      3850        4050   \n",
       "5    6       PRIMERA   VE        31      4050      2700        3699   \n",
       "6    7       PRIMERA   VP        21      4350      3850        4066   \n",
       "7    8       SEGUNDA   ML       238      5750      3400        4770   \n",
       "8    9       SEGUNDA   MC        20      5050      3700        4587   \n",
       "9   10       SEGUNDA   TO         1      4380      4380        4380   \n",
       "10  11       SEGUNDA   HL        12      4650      3300        3912   \n",
       "11  12       SEGUNDA   VE        17      3900      3300        3650   \n",
       "12  13       SEGUNDA   VP         2      4050      3350        3700   \n",
       "\n",
       "    peso_promedio  Valor_animal  \n",
       "0             177        968378  \n",
       "1             296       1502693  \n",
       "2             705       3144300  \n",
       "3             199        900927  \n",
       "4             336       1362150  \n",
       "5             362       1342519  \n",
       "6             455       1850333  \n",
       "7             165        788592  \n",
       "8             288       1323063  \n",
       "9             528       2312640  \n",
       "10            179        702293  \n",
       "11            328       1197930  \n",
       "12            404       1494800  "
      ]
     },
     "execution_count": 15,
     "metadata": {},
     "output_type": "execute_result"
    }
   ],
   "source": [
    "# Importancion de los datos limpiados en open refine\n",
    "import pandas as pd\n",
    "df=pd.read_excel(\"data.xlsx\")\n",
    "df"
   ]
  },
  {
   "cell_type": "markdown",
   "id": "a2475fec",
   "metadata": {},
   "source": [
    "## Crear la conexión a SQLite "
   ]
  },
  {
   "cell_type": "code",
   "execution_count": 33,
   "id": "4959021c",
   "metadata": {},
   "outputs": [],
   "source": [
    "import sqlite3\n",
    "conexion=sqlite3.connect(\"bd1.db\")\n",
    "df.to_sql(\"animales\", conexion, if_exists=\"replace\", index=False)\n",
    "\n"
   ]
  },
  {
   "cell_type": "markdown",
   "id": "7a2d72fe",
   "metadata": {},
   "source": [
    "## Consultas"
   ]
  },
  {
   "cell_type": "code",
   "execution_count": 17,
   "id": "ad8e8245",
   "metadata": {},
   "outputs": [
    {
     "name": "stdout",
     "output_type": "stream",
     "text": [
      "   ID Clasificación Tipo  Cantidad  p_maximo  p_minimo  p_promedio  \\\n",
      "0   1       PRIMERA   ML       178      6400      4000        5452   \n",
      "1   2       PRIMERA   MC        36      5350      4580        5076   \n",
      "2   3       PRIMERA   TO         2      4500      4420        4460   \n",
      "3   4       PRIMERA   HL        56      5000      3950        4525   \n",
      "4   5       PRIMERA   HV         8      4200      3850        4050   \n",
      "5   6       PRIMERA   VE        31      4050      2700        3699   \n",
      "6   7       PRIMERA   VP        21      4350      3850        4066   \n",
      "\n",
      "   peso_promedio  Valor_animal  \n",
      "0            177        968378  \n",
      "1            296       1502693  \n",
      "2            705       3144300  \n",
      "3            199        900927  \n",
      "4            336       1362150  \n",
      "5            362       1342519  \n",
      "6            455       1850333  \n"
     ]
    }
   ],
   "source": [
    "# Consultar todos los animales que se clasifican como PRIMERA\n",
    "consulta1 = \"SELECT * FROM animales WHERE Clasificación = 'PRIMERA'\"\n",
    "result1 = pd.read_sql_query(consulta1, conexion)\n",
    "print(result1)"
   ]
  },
  {
   "cell_type": "code",
   "execution_count": 18,
   "id": "4731b091",
   "metadata": {},
   "outputs": [
    {
     "name": "stdout",
     "output_type": "stream",
     "text": [
      "   ID Clasificación Tipo  Cantidad  p_maximo  p_minimo  p_promedio  \\\n",
      "0   1       PRIMERA   ML       178      6400      4000        5452   \n",
      "1   2       PRIMERA   MC        36      5350      4580        5076   \n",
      "2   4       PRIMERA   HL        56      5000      3950        4525   \n",
      "3   8       SEGUNDA   ML       238      5750      3400        4770   \n",
      "4   9       SEGUNDA   MC        20      5050      3700        4587   \n",
      "\n",
      "   peso_promedio  Valor_animal  \n",
      "0            177        968378  \n",
      "1            296       1502693  \n",
      "2            199        900927  \n",
      "3            165        788592  \n",
      "4            288       1323063  \n"
     ]
    }
   ],
   "source": [
    "# Consultar animales con un peso maximo de 5000 kg\n",
    "\n",
    "consulta2 = \"SELECT * FROM animales WHERE p_maximo >=5000\"\n",
    "result2 = pd.read_sql_query(consulta2, conexion)\n",
    "print(result2)"
   ]
  },
  {
   "cell_type": "code",
   "execution_count": 24,
   "id": "765d9d80",
   "metadata": {},
   "outputs": [
    {
     "name": "stdout",
     "output_type": "stream",
     "text": [
      "   total\n",
      "0    622\n"
     ]
    }
   ],
   "source": [
    "# Consultar la cantidad de animales vendidos\n",
    "\n",
    "consulta3 = \"SELECT SUM(Cantidad) AS total  FROM animales\"\n",
    "result3 = pd.read_sql_query(consulta3, conexion)\n",
    "print(result3)"
   ]
  },
  {
   "cell_type": "code",
   "execution_count": 25,
   "id": "ffed4090",
   "metadata": {},
   "outputs": [
    {
     "name": "stdout",
     "output_type": "stream",
     "text": [
      "   longitud\n",
      "0        13\n"
     ]
    }
   ],
   "source": [
    "# Consultar la longitud de los datos\n",
    "\n",
    "consulta4 = \"SELECT count(*) AS longitud  FROM animales\"\n",
    "result4 = pd.read_sql_query(consulta4, conexion)\n",
    "print(result4)"
   ]
  },
  {
   "cell_type": "code",
   "execution_count": 32,
   "id": "456844f4",
   "metadata": {
    "collapsed": true
   },
   "outputs": [
    {
     "ename": "ProgrammingError",
     "evalue": "Cannot operate on a closed database.",
     "output_type": "error",
     "traceback": [
      "\u001b[1;31m---------------------------------------------------------------------------\u001b[0m",
      "\u001b[1;31mProgrammingError\u001b[0m                          Traceback (most recent call last)",
      "\u001b[1;32m~\\AppData\\Local\\Temp/ipykernel_17552/1627437548.py\u001b[0m in \u001b[0;36m<module>\u001b[1;34m\u001b[0m\n\u001b[0;32m      1\u001b[0m \u001b[1;31m# recuperar la primera fila\u001b[0m\u001b[1;33m\u001b[0m\u001b[1;33m\u001b[0m\u001b[0m\n\u001b[0;32m      2\u001b[0m \u001b[0mco\u001b[0m \u001b[1;33m=\u001b[0m \u001b[1;34m\"SELECT * FROM animales LIMIT 1\"\u001b[0m\u001b[1;33m\u001b[0m\u001b[1;33m\u001b[0m\u001b[0m\n\u001b[1;32m----> 3\u001b[1;33m \u001b[0mresult5\u001b[0m \u001b[1;33m=\u001b[0m \u001b[0mpd\u001b[0m\u001b[1;33m.\u001b[0m\u001b[0mread_sql_query\u001b[0m\u001b[1;33m(\u001b[0m\u001b[0mco\u001b[0m\u001b[1;33m,\u001b[0m \u001b[0mconexion\u001b[0m\u001b[1;33m)\u001b[0m\u001b[1;33m\u001b[0m\u001b[1;33m\u001b[0m\u001b[0m\n\u001b[0m\u001b[0;32m      4\u001b[0m \u001b[0mprint\u001b[0m\u001b[1;33m(\u001b[0m\u001b[0mresult5\u001b[0m\u001b[1;33m)\u001b[0m\u001b[1;33m\u001b[0m\u001b[1;33m\u001b[0m\u001b[0m\n",
      "\u001b[1;32m~\\anaconda3\\lib\\site-packages\\pandas\\io\\sql.py\u001b[0m in \u001b[0;36mread_sql_query\u001b[1;34m(sql, con, index_col, coerce_float, params, parse_dates, chunksize, dtype)\u001b[0m\n\u001b[0;32m    434\u001b[0m     \"\"\"\n\u001b[0;32m    435\u001b[0m     \u001b[0mpandas_sql\u001b[0m \u001b[1;33m=\u001b[0m \u001b[0mpandasSQL_builder\u001b[0m\u001b[1;33m(\u001b[0m\u001b[0mcon\u001b[0m\u001b[1;33m)\u001b[0m\u001b[1;33m\u001b[0m\u001b[1;33m\u001b[0m\u001b[0m\n\u001b[1;32m--> 436\u001b[1;33m     return pandas_sql.read_query(\n\u001b[0m\u001b[0;32m    437\u001b[0m         \u001b[0msql\u001b[0m\u001b[1;33m,\u001b[0m\u001b[1;33m\u001b[0m\u001b[1;33m\u001b[0m\u001b[0m\n\u001b[0;32m    438\u001b[0m         \u001b[0mindex_col\u001b[0m\u001b[1;33m=\u001b[0m\u001b[0mindex_col\u001b[0m\u001b[1;33m,\u001b[0m\u001b[1;33m\u001b[0m\u001b[1;33m\u001b[0m\u001b[0m\n",
      "\u001b[1;32m~\\anaconda3\\lib\\site-packages\\pandas\\io\\sql.py\u001b[0m in \u001b[0;36mread_query\u001b[1;34m(self, sql, index_col, coerce_float, params, parse_dates, chunksize, dtype)\u001b[0m\n\u001b[0;32m   2114\u001b[0m \u001b[1;33m\u001b[0m\u001b[0m\n\u001b[0;32m   2115\u001b[0m         \u001b[0margs\u001b[0m \u001b[1;33m=\u001b[0m \u001b[0m_convert_params\u001b[0m\u001b[1;33m(\u001b[0m\u001b[0msql\u001b[0m\u001b[1;33m,\u001b[0m \u001b[0mparams\u001b[0m\u001b[1;33m)\u001b[0m\u001b[1;33m\u001b[0m\u001b[1;33m\u001b[0m\u001b[0m\n\u001b[1;32m-> 2116\u001b[1;33m         \u001b[0mcursor\u001b[0m \u001b[1;33m=\u001b[0m \u001b[0mself\u001b[0m\u001b[1;33m.\u001b[0m\u001b[0mexecute\u001b[0m\u001b[1;33m(\u001b[0m\u001b[1;33m*\u001b[0m\u001b[0margs\u001b[0m\u001b[1;33m)\u001b[0m\u001b[1;33m\u001b[0m\u001b[1;33m\u001b[0m\u001b[0m\n\u001b[0m\u001b[0;32m   2117\u001b[0m         \u001b[0mcolumns\u001b[0m \u001b[1;33m=\u001b[0m \u001b[1;33m[\u001b[0m\u001b[0mcol_desc\u001b[0m\u001b[1;33m[\u001b[0m\u001b[1;36m0\u001b[0m\u001b[1;33m]\u001b[0m \u001b[1;32mfor\u001b[0m \u001b[0mcol_desc\u001b[0m \u001b[1;32min\u001b[0m \u001b[0mcursor\u001b[0m\u001b[1;33m.\u001b[0m\u001b[0mdescription\u001b[0m\u001b[1;33m]\u001b[0m\u001b[1;33m\u001b[0m\u001b[1;33m\u001b[0m\u001b[0m\n\u001b[0;32m   2118\u001b[0m \u001b[1;33m\u001b[0m\u001b[0m\n",
      "\u001b[1;32m~\\anaconda3\\lib\\site-packages\\pandas\\io\\sql.py\u001b[0m in \u001b[0;36mexecute\u001b[1;34m(self, *args, **kwargs)\u001b[0m\n\u001b[0;32m   2052\u001b[0m             \u001b[0mcur\u001b[0m \u001b[1;33m=\u001b[0m \u001b[0mself\u001b[0m\u001b[1;33m.\u001b[0m\u001b[0mcon\u001b[0m\u001b[1;33m\u001b[0m\u001b[1;33m\u001b[0m\u001b[0m\n\u001b[0;32m   2053\u001b[0m         \u001b[1;32melse\u001b[0m\u001b[1;33m:\u001b[0m\u001b[1;33m\u001b[0m\u001b[1;33m\u001b[0m\u001b[0m\n\u001b[1;32m-> 2054\u001b[1;33m             \u001b[0mcur\u001b[0m \u001b[1;33m=\u001b[0m \u001b[0mself\u001b[0m\u001b[1;33m.\u001b[0m\u001b[0mcon\u001b[0m\u001b[1;33m.\u001b[0m\u001b[0mcursor\u001b[0m\u001b[1;33m(\u001b[0m\u001b[1;33m)\u001b[0m\u001b[1;33m\u001b[0m\u001b[1;33m\u001b[0m\u001b[0m\n\u001b[0m\u001b[0;32m   2055\u001b[0m         \u001b[1;32mtry\u001b[0m\u001b[1;33m:\u001b[0m\u001b[1;33m\u001b[0m\u001b[1;33m\u001b[0m\u001b[0m\n\u001b[0;32m   2056\u001b[0m             \u001b[0mcur\u001b[0m\u001b[1;33m.\u001b[0m\u001b[0mexecute\u001b[0m\u001b[1;33m(\u001b[0m\u001b[1;33m*\u001b[0m\u001b[0margs\u001b[0m\u001b[1;33m,\u001b[0m \u001b[1;33m**\u001b[0m\u001b[0mkwargs\u001b[0m\u001b[1;33m)\u001b[0m\u001b[1;33m\u001b[0m\u001b[1;33m\u001b[0m\u001b[0m\n",
      "\u001b[1;31mProgrammingError\u001b[0m: Cannot operate on a closed database."
     ]
    }
   ],
   "source": [
    "# recuperar la primera fila \n",
    "co = \"SELECT * FROM animales LIMIT 1\"\n",
    "result5 = pd.read_sql_query(co, conexion)\n",
    "print(result5)\n"
   ]
  },
  {
   "cell_type": "code",
   "execution_count": 34,
   "id": "ecb89fb4",
   "metadata": {},
   "outputs": [
    {
     "name": "stdout",
     "output_type": "stream",
     "text": [
      "Ingrese el tipo de animal a buscar (ejemplo: ML, MC, TO): TO\n",
      "Registro encontrado: (3, 'PRIMERA', 'TO', 2, 4500, 4420, 4460, 705, 3144300)\n"
     ]
    }
   ],
   "source": [
    "# Solicitar al usuario el tipo de animal\n",
    "tipo_animal = input(\"Ingrese el tipo de animal a buscar (ejemplo: ML, MC, TO): \").strip()\n",
    "\n",
    "# Ejecutar consulta para buscar coincidencias en la columna \"tipo\"\n",
    "cursor = conexion.execute(\"SELECT * FROM animales WHERE Tipo LIKE '%' || ? || '%'\", (tipo_animal,))\n",
    "fila = cursor.fetchone()\n",
    "\n",
    "# Verificar si se encontró algún resultado\n",
    "if fila is not None:\n",
    "    print(\"Registro encontrado:\", fila)\n",
    "else:\n",
    "    print(\"No se encontró el tipo de animal ingresado.\")\n",
    "\n",
    "\n"
   ]
  },
  {
   "cell_type": "code",
   "execution_count": 37,
   "id": "7b5a86e1",
   "metadata": {
    "collapsed": true
   },
   "outputs": [
    {
     "name": "stdout",
     "output_type": "stream",
     "text": [
      "      ID Clasificación Tipo  Cantidad  p_maximo  p_minimo  p_promedio  \\\n",
      "0    1.0       PRIMERA   ML       178      6400      4000        5452   \n",
      "1    2.0       PRIMERA   MC        36      5350      4580        5076   \n",
      "2    3.0       PRIMERA   TO         2      4500      4420        4460   \n",
      "3    4.0       PRIMERA   HL        56      5000      3950        4525   \n",
      "4    5.0       PRIMERA   HV         8      4200      3850        4050   \n",
      "5    6.0       PRIMERA   VE        31      4050      2700        3699   \n",
      "6    7.0       PRIMERA   VP        21      4350      3850        4066   \n",
      "7    8.0       SEGUNDA   ML       238      5750      3400        4770   \n",
      "8    9.0       SEGUNDA   MC        20      5050      3700        4587   \n",
      "9   10.0       SEGUNDA   TO         1      4380      4380        4380   \n",
      "10  11.0       SEGUNDA   HL        12      4650      3300        3912   \n",
      "11  12.0       SEGUNDA   VE        17      3900      3300        3650   \n",
      "12  13.0       SEGUNDA   VP         2      4050      3350        3700   \n",
      "13   NaN       TERCERA   ML       120      5500      3900        5200   \n",
      "\n",
      "    peso_promedio  Valor_animal  \n",
      "0             177        968378  \n",
      "1             296       1502693  \n",
      "2             705       3144300  \n",
      "3             199        900927  \n",
      "4             336       1362150  \n",
      "5             362       1342519  \n",
      "6             455       1850333  \n",
      "7             165        788592  \n",
      "8             288       1323063  \n",
      "9             528       2312640  \n",
      "10            179        702293  \n",
      "11            328       1197930  \n",
      "12            404       1494800  \n",
      "13            190       1150000  \n"
     ]
    }
   ],
   "source": [
    "# Insertar un nuevo registro\n",
    "\n",
    "nueva_fila = ('TERCERA', 'ML', 120.0, 5500.0, 3900.0, 5200.0, 190.0, 1150000.0)\n",
    "\n",
    "# Insertar la nueva fila\n",
    "conexion.execute(\"INSERT INTO animales (Clasificación, Tipo, Cantidad, p_maximo, p_minimo, p_promedio, peso_promedio, valor_animal) VALUES (?, ?, ?, ?, ?, ?, ?, ?)\", nueva_fila)\n",
    "\n",
    "# Confirmar los cambios\n",
    "conexion.commit()\n",
    "\n",
    "\n",
    "co2 = \"SELECT * FROM animales LIMIT 14\"\n",
    "result6 = pd.read_sql_query(co2, conexion)\n",
    "print(result6)"
   ]
  },
  {
   "cell_type": "code",
   "execution_count": null,
   "id": "a911c4f8",
   "metadata": {},
   "outputs": [],
   "source": [
    "# Solicitar al usuario los datos para la nueva fila\n",
    "Clasificación = input(\"Ingrese la clasificación (ej. PRIMERA, SEGUNDA, etc.): \")\n",
    "Tipo = input(\"Ingrese el tipo de animal (ej. ML, MC, TO): \")\n",
    "Cantidad = float(input(\"Ingrese la cantidad de animales: \"))\n",
    "p_maximo = float(input(\"Ingrese el precio máximo: \"))\n",
    "p_minimo = float(input(\"Ingrese el precio mínimo: \"))\n",
    "p_promedio = float(input(\"Ingrese el precio promedio: \"))\n",
    "peso_promedio = float(input(\"Ingrese el peso promedio: \"))\n",
    "valor_animal = float(input(\"Ingrese el valor del animal: \"))\n",
    "\n",
    "# Crear la nueva fila\n",
    "nueva_fila = (Clasificación, Tipo, Cantidad, p_maximo, p_minimo, p_promedio, peso_promedio, valor_animal)\n",
    "\n",
    "# Insertar la nueva fila en la tabla\n",
    "conexion.execute(\"INSERT INTO animales (Clasificación, Tipo, Cantidad, p_maximo, p_minimo, p_promedio, peso_promedio, valor_animal) VALUES (?, ?, ?, ?, ?, ?, ?, ?)\", nueva_fila)\n",
    "\n",
    "# Confirmar los cambios\n",
    "conexion.commit()\n",
    "\n",
    "# Verificar si la fila se insertó correctamente\n",
    "cursor = conexion.execute(\"SELECT * FROM animales WHERE Clasificación = ? AND tipo = ? AND Cantidad = ?\", (Clasificación, Tipo, Cantidad))\n",
    "fila = cursor.fetchone()\n",
    "\n",
    "if fila:\n",
    "    print(\"Fila insertada correctamente:\", fila)\n",
    "else:\n",
    "    print(\"No se insertó la fila.\")\n"
   ]
  }
 ],
 "metadata": {
  "kernelspec": {
   "display_name": "Python 3 (ipykernel)",
   "language": "python",
   "name": "python3"
  },
  "language_info": {
   "codemirror_mode": {
    "name": "ipython",
    "version": 3
   },
   "file_extension": ".py",
   "mimetype": "text/x-python",
   "name": "python",
   "nbconvert_exporter": "python",
   "pygments_lexer": "ipython3",
   "version": "3.9.7"
  }
 },
 "nbformat": 4,
 "nbformat_minor": 5
}
